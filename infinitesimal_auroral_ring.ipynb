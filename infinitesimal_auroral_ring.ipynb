{
 "cells": [
  {
   "cell_type": "code",
   "execution_count": 1,
   "metadata": {},
   "outputs": [],
   "source": [
    "import numpy as np\n",
    "import matplotlib.pyplot as plt\n",
    "\n",
    "from funcs.geometry import rotate_around_arb_axis\n",
    "\n",
    "# set dark background\n",
    "plt.style.use('dark_background')\n",
    "\n",
    "import pandas as pd\n",
    "import emcee"
   ]
  },
  {
   "cell_type": "code",
   "execution_count": 3,
   "metadata": {},
   "outputs": [],
   "source": [
    "def vx(phi, alpha, i_rot, i_mag, latitude):\n",
    "    sa, ca = np.sin(alpha), np.cos(alpha)\n",
    "    si, ci = np.sin(i_rot), np.cos(i_rot)\n",
    "    st, ct = np.sin(latitude), np.cos(latitude)\n",
    "    sp, cp = np.sin(phi), np.cos(phi)\n",
    "    sip, cip = np.sin(i_rot + i_mag), np.cos(i_rot + i_mag)\n",
    "\n",
    "    X = -sa * sip * ct + 2 * ca * sa * ct * si * (sip + ci * cip)\n",
    "    Y = -sa * cip * st + 2 * ca * sa * st * (cip * si - sip)\n",
    "    Z = -ca * ci * st\n",
    "\n",
    "    return X + sp * Y + cp * Z\n",
    "\n",
    "\n",
    "def x(phi, alpha, i_rot, i_mag, latitude):\n",
    "    sa, ca = np.sin(alpha), np.cos(alpha)\n",
    "    si, ci = np.sin(i_rot), np.cos(i_rot)\n",
    "    st, ct = np.sin(latitude), np.cos(latitude)\n",
    "    sp, cp = np.sin(phi), np.cos(phi)\n",
    "    sip, cip = np.sin(i_rot + i_mag), np.cos(i_rot + i_mag)\n",
    "\n",
    "    B = cip * st * sp + sip * ct\n",
    "    D = ci * st * cp\n",
    "    A = si * ci * (cip * ct - sip * st * sp)\n",
    "\n",
    "    return si * B + A + ca * B - ca**2 * (B * si + A) - sa * D\n",
    "\n",
    "\n",
    "\n",
    "\n",
    "\n",
    "\n",
    "\n",
    "def model(vsbins, params, omega=1., Rstar=1.):\n",
    "     \n",
    "    i_rot, i_mag, lat = params\n",
    "\n",
    "    phi = np.linspace(0, 2 * np.pi, 1000)\n",
    "\n",
    "    vxss = []\n",
    "\n",
    "    for alphas in np.linspace(0, 2 * np.pi, 500):\n",
    "\n",
    "            xs = x(phi, alphas, i_rot, i_mag, lat) > 0\n",
    "            vxs = vx(phi, alphas, i_rot, i_mag, lat)[xs]\n",
    "            # plt.plot(phi[xs], vx(phi, alphas, 0, np.pi/2, 60 / 180 * np.pi)[xs], label=f\"{alphas/np.pi*180:.0f}°\")\n",
    "            vxss.append(vxs)\n",
    "\n",
    "            # plt.hist(vxs, bins=100, histtype='step', density=False, label=f\"{alphas/np.pi*180:.0f}°\")\n",
    "    # plt.ylim(0, 2 * np.pi)\n",
    "    # concatenate all vxss\n",
    "    vxss = np.concatenate(vxss)\n",
    "\n",
    "    # convert to km/s\n",
    "    vxss = vxss * omega / (24*3600)  * Rstar * 695700 \n",
    "        \n",
    "    hist, _ = np.histogram(vxss, bins=vsbins)\n",
    "\n",
    "    return hist / np.max(hist)\n",
    "# plt.scatter(vsbins, hist, label=f\"{alphas/np.pi*180:.0f}°\")\n",
    "# plt.ylabel(r'longitude of the ring element $\\phi$')\n",
    "# plt.xlabel(r'$v_x$')\n",
    "# plt.legend()\n",
    "\n",
    "\n"
   ]
  },
  {
   "cell_type": "code",
   "execution_count": 15,
   "metadata": {},
   "outputs": [
    {
     "data": {
      "text/plain": [
       "((200,), (199,))"
      ]
     },
     "execution_count": 15,
     "metadata": {},
     "output_type": "execute_result"
    }
   ],
   "source": [
    "# read data\n",
    "df = pd.read_csv('rotating_oblique_ring_spectral_signatures.csv')\n",
    "\n",
    "yerr = df[\"intensity_err\"].values\n",
    "y = df[\"intensity\"].values\n",
    "\n",
    "\n",
    "params = [np.pi/2 - 90 /180 *np.pi, 10 /180 * np.pi, 60 /180 * np.pi]  #i_rot, i_mag, lat\n",
    "vsbins = df.v_radial_km_s.values\n",
    "\n",
    "# convert binmids to uniform bin edges\n",
    "binmids = vsbins\n",
    "binwidth = np.mean(np.diff(binmids))\n",
    "bins = np.concatenate([binmids - binwidth/2, [binmids[-1] + binwidth/2]])\n",
    "\n",
    "\n",
    "hist = model(bins, params)\n",
    "bins.shape, hist.shape"
   ]
  },
  {
   "cell_type": "code",
   "execution_count": 5,
   "metadata": {},
   "outputs": [
    {
     "name": "stdout",
     "output_type": "stream",
     "text": [
      "37.6 ms ± 381 µs per loop (mean ± std. dev. of 7 runs, 10 loops each)\n"
     ]
    }
   ],
   "source": [
    "%timeit model(bins, params)"
   ]
  },
  {
   "cell_type": "code",
   "execution_count": 6,
   "metadata": {},
   "outputs": [
    {
     "data": {
      "text/plain": [
       "[<matplotlib.lines.Line2D at 0x7fb007df56c0>]"
      ]
     },
     "execution_count": 6,
     "metadata": {},
     "output_type": "execute_result"
    },
    {
     "data": {
      "image/png": "[encoded data removed]",
      "text/plain": [
       "<Figure size 640x480 with 1 Axes>"
      ]
     },
     "metadata": {},
     "output_type": "display_data"
    }
   ],
   "source": [
    "plt.plot(vsbins, hist)"
   ]
  },
  {
   "cell_type": "code",
   "execution_count": 10,
   "metadata": {},
   "outputs": [],
   "source": [
    "def log_likelihood(theta, vsbins, y, yerr):\n",
    "    i_rot, i_mag, latitude, log_f = theta\n",
    "    m = model(vsbins, (i_rot, i_mag, latitude))\n",
    "    sigma2 = yerr**2 + m**2 * np.exp(2 * log_f)\n",
    "    return -0.5 * np.sum((y - m) ** 2 / sigma2 + np.log(sigma2))"
   ]
  },
  {
   "cell_type": "code",
   "execution_count": 23,
   "metadata": {},
   "outputs": [
    {
     "name": "stdout",
     "output_type": "stream",
     "text": [
      "Maximum likelihood estimates:\n",
      "irot = 81.462\n",
      "imag = 87.623\n",
      "lat = 63.133\n",
      "logf = 1.745\n"
     ]
    },
    {
     "name": "stderr",
     "output_type": "stream",
     "text": [
      "/tmp/ipykernel_508096/2745364780.py:5: RuntimeWarning: invalid value encountered in divide\n",
      "  return -0.5 * np.sum((y - m) ** 2 / sigma2 + np.log(sigma2))\n",
      "/tmp/ipykernel_508096/2745364780.py:5: RuntimeWarning: divide by zero encountered in log\n",
      "  return -0.5 * np.sum((y - m) ** 2 / sigma2 + np.log(sigma2))\n"
     ]
    }
   ],
   "source": [
    "from scipy.optimize import minimize\n",
    "\n",
    "np.random.seed(42)\n",
    "nll = lambda *args: -log_likelihood(*args)\n",
    "initial = np.array([0, np.pi/2, 52/180* np.pi, 0.1]) + .3 * np.random.randn(4)\n",
    "soln = minimize(nll, initial, args=(bins, y, yerr))\n",
    "irot, imag, latitude, log_f = soln.x\n",
    "\n",
    "\n",
    "print(\"Maximum likelihood estimates:\")\n",
    "print(\"irot = {0:.3f}\".format((np.pi/2 - irot)/np.pi*180))\n",
    "print(\"imag = {0:.3f}\".format(imag/np.pi*180))\n",
    "print(\"lat = {0:.3f}\".format(latitude/np.pi*180))\n",
    "print(\"logf = {0:.3f}\".format(np.exp(log_f)))"
   ]
  },
  {
   "cell_type": "code",
   "execution_count": null,
   "metadata": {},
   "outputs": [],
   "source": []
  }
 ],
 "metadata": {
  "kernelspec": {
   "display_name": ".venv",
   "language": "python",
   "name": "python3"
  },
  "language_info": {
   "codemirror_mode": {
    "name": "ipython",
    "version": 3
   },
   "file_extension": ".py",
   "mimetype": "text/x-python",
   "name": "python",
   "nbconvert_exporter": "python",
   "pygments_lexer": "ipython3",
   "version": "3.10.12"
  }
 },
 "nbformat": 4,
 "nbformat_minor": 2
}
